{
 "cells": [
  {
   "cell_type": "code",
   "execution_count": 320,
   "metadata": {},
   "outputs": [],
   "source": [
    "library(iml)\n",
    "library(randomForest)\n",
    "library(mlr)\n",
    "library(featureImportance)\n",
    "options(warn=-1)"
   ]
  },
  {
   "cell_type": "code",
   "execution_count": 337,
   "metadata": {},
   "outputs": [
    {
     "data": {
      "text/html": [
       "<table>\n",
       "<thead><tr><th scope=col>id</th><th scope=col>age</th><th scope=col>bp</th><th scope=col>sg</th><th scope=col>al</th><th scope=col>su</th><th scope=col>rbc</th><th scope=col>pc</th><th scope=col>pcc</th><th scope=col>ba</th><th scope=col>...</th><th scope=col>pcv</th><th scope=col>wc</th><th scope=col>rc</th><th scope=col>htn</th><th scope=col>dm</th><th scope=col>cad</th><th scope=col>appet</th><th scope=col>pe</th><th scope=col>ane</th><th scope=col>classification</th></tr></thead>\n",
       "<tbody>\n",
       "\t<tr><td>0         </td><td>48        </td><td>80        </td><td>1.020     </td><td>1         </td><td>0         </td><td>          </td><td>normal    </td><td>notpresent</td><td>notpresent</td><td>...       </td><td>44        </td><td>7800      </td><td>5.2       </td><td>yes       </td><td>yes       </td><td>no        </td><td>good      </td><td>no        </td><td>no        </td><td>ckd       </td></tr>\n",
       "\t<tr><td>1         </td><td> 7        </td><td>50        </td><td>1.020     </td><td>4         </td><td>0         </td><td>          </td><td>normal    </td><td>notpresent</td><td>notpresent</td><td>...       </td><td>38        </td><td>6000      </td><td>          </td><td>no        </td><td>no        </td><td>no        </td><td>good      </td><td>no        </td><td>no        </td><td>ckd       </td></tr>\n",
       "\t<tr><td>2         </td><td>62        </td><td>80        </td><td>1.010     </td><td>2         </td><td>3         </td><td>normal    </td><td>normal    </td><td>notpresent</td><td>notpresent</td><td>...       </td><td>31        </td><td>7500      </td><td>          </td><td>no        </td><td>yes       </td><td>no        </td><td>poor      </td><td>no        </td><td>yes       </td><td>ckd       </td></tr>\n",
       "\t<tr><td>3         </td><td>48        </td><td>70        </td><td>1.005     </td><td>4         </td><td>0         </td><td>normal    </td><td>abnormal  </td><td>present   </td><td>notpresent</td><td>...       </td><td>32        </td><td>6700      </td><td>3.9       </td><td>yes       </td><td>no        </td><td>no        </td><td>poor      </td><td>yes       </td><td>yes       </td><td>ckd       </td></tr>\n",
       "\t<tr><td>4         </td><td>51        </td><td>80        </td><td>1.010     </td><td>2         </td><td>0         </td><td>normal    </td><td>normal    </td><td>notpresent</td><td>notpresent</td><td>...       </td><td>35        </td><td>7300      </td><td>4.6       </td><td>no        </td><td>no        </td><td>no        </td><td>good      </td><td>no        </td><td>no        </td><td>ckd       </td></tr>\n",
       "\t<tr><td>5         </td><td>60        </td><td>90        </td><td>1.015     </td><td>3         </td><td>0         </td><td>          </td><td>          </td><td>notpresent</td><td>notpresent</td><td>...       </td><td>39        </td><td>7800      </td><td>4.4       </td><td>yes       </td><td>yes       </td><td>no        </td><td>good      </td><td>yes       </td><td>no        </td><td>ckd       </td></tr>\n",
       "</tbody>\n",
       "</table>\n"
      ],
      "text/latex": [
       "\\begin{tabular}{r|llllllllllllllllllllllllll}\n",
       " id & age & bp & sg & al & su & rbc & pc & pcc & ba & ... & pcv & wc & rc & htn & dm & cad & appet & pe & ane & classification\\\\\n",
       "\\hline\n",
       "\t 0          & 48         & 80         & 1.020      & 1          & 0          &            & normal     & notpresent & notpresent & ...        & 44         & 7800       & 5.2        & yes        & yes        & no         & good       & no         & no         & ckd       \\\\\n",
       "\t 1          &  7         & 50         & 1.020      & 4          & 0          &            & normal     & notpresent & notpresent & ...        & 38         & 6000       &            & no         & no         & no         & good       & no         & no         & ckd       \\\\\n",
       "\t 2          & 62         & 80         & 1.010      & 2          & 3          & normal     & normal     & notpresent & notpresent & ...        & 31         & 7500       &            & no         & yes        & no         & poor       & no         & yes        & ckd       \\\\\n",
       "\t 3          & 48         & 70         & 1.005      & 4          & 0          & normal     & abnormal   & present    & notpresent & ...        & 32         & 6700       & 3.9        & yes        & no         & no         & poor       & yes        & yes        & ckd       \\\\\n",
       "\t 4          & 51         & 80         & 1.010      & 2          & 0          & normal     & normal     & notpresent & notpresent & ...        & 35         & 7300       & 4.6        & no         & no         & no         & good       & no         & no         & ckd       \\\\\n",
       "\t 5          & 60         & 90         & 1.015      & 3          & 0          &            &            & notpresent & notpresent & ...        & 39         & 7800       & 4.4        & yes        & yes        & no         & good       & yes        & no         & ckd       \\\\\n",
       "\\end{tabular}\n"
      ],
      "text/markdown": [
       "\n",
       "| id | age | bp | sg | al | su | rbc | pc | pcc | ba | ... | pcv | wc | rc | htn | dm | cad | appet | pe | ane | classification |\n",
       "|---|---|---|---|---|---|---|---|---|---|---|---|---|---|---|---|---|---|---|---|---|\n",
       "| 0          | 48         | 80         | 1.020      | 1          | 0          |            | normal     | notpresent | notpresent | ...        | 44         | 7800       | 5.2        | yes        | yes        | no         | good       | no         | no         | ckd        |\n",
       "| 1          |  7         | 50         | 1.020      | 4          | 0          |            | normal     | notpresent | notpresent | ...        | 38         | 6000       |            | no         | no         | no         | good       | no         | no         | ckd        |\n",
       "| 2          | 62         | 80         | 1.010      | 2          | 3          | normal     | normal     | notpresent | notpresent | ...        | 31         | 7500       |            | no         | yes        | no         | poor       | no         | yes        | ckd        |\n",
       "| 3          | 48         | 70         | 1.005      | 4          | 0          | normal     | abnormal   | present    | notpresent | ...        | 32         | 6700       | 3.9        | yes        | no         | no         | poor       | yes        | yes        | ckd        |\n",
       "| 4          | 51         | 80         | 1.010      | 2          | 0          | normal     | normal     | notpresent | notpresent | ...        | 35         | 7300       | 4.6        | no         | no         | no         | good       | no         | no         | ckd        |\n",
       "| 5          | 60         | 90         | 1.015      | 3          | 0          |            |            | notpresent | notpresent | ...        | 39         | 7800       | 4.4        | yes        | yes        | no         | good       | yes        | no         | ckd        |\n",
       "\n"
      ],
      "text/plain": [
       "  id age bp sg    al su rbc    pc       pcc        ba         ... pcv wc   rc \n",
       "1 0  48  80 1.020 1  0         normal   notpresent notpresent ... 44  7800 5.2\n",
       "2 1   7  50 1.020 4  0         normal   notpresent notpresent ... 38  6000    \n",
       "3 2  62  80 1.010 2  3  normal normal   notpresent notpresent ... 31  7500    \n",
       "4 3  48  70 1.005 4  0  normal abnormal present    notpresent ... 32  6700 3.9\n",
       "5 4  51  80 1.010 2  0  normal normal   notpresent notpresent ... 35  7300 4.6\n",
       "6 5  60  90 1.015 3  0                  notpresent notpresent ... 39  7800 4.4\n",
       "  htn dm  cad appet pe  ane classification\n",
       "1 yes yes no  good  no  no  ckd           \n",
       "2 no  no  no  good  no  no  ckd           \n",
       "3 no  yes no  poor  no  yes ckd           \n",
       "4 yes no  no  poor  yes yes ckd           \n",
       "5 no  no  no  good  no  no  ckd           \n",
       "6 yes yes no  good  yes no  ckd           "
      ]
     },
     "metadata": {},
     "output_type": "display_data"
    }
   ],
   "source": [
    "# Dataset used to predict chronic kidney disease\n",
    "data<-read.table(\"kidney_disease.csv\",sep=',',header=TRUE, stringsAsFactors = FALSE)\n",
    "head(data)"
   ]
  },
  {
   "cell_type": "markdown",
   "metadata": {},
   "source": [
    "## Data cleaning"
   ]
  },
  {
   "cell_type": "code",
   "execution_count": 230,
   "metadata": {},
   "outputs": [],
   "source": [
    "data$classification[data$classification=='ckd\\t']<-'ckd'"
   ]
  },
  {
   "cell_type": "code",
   "execution_count": 231,
   "metadata": {},
   "outputs": [],
   "source": [
    "#data$cad\n",
    "data$cad[data$cad=='\\tno']<-'no'"
   ]
  },
  {
   "cell_type": "code",
   "execution_count": 232,
   "metadata": {},
   "outputs": [],
   "source": [
    "df <- subset(data, select = -c(pot,sod,wc,rbc))"
   ]
  },
  {
   "cell_type": "code",
   "execution_count": 233,
   "metadata": {},
   "outputs": [],
   "source": [
    "df[df == \"\"] <- NA"
   ]
  },
  {
   "cell_type": "code",
   "execution_count": 234,
   "metadata": {},
   "outputs": [],
   "source": [
    "df=df[complete.cases(df), ]"
   ]
  },
  {
   "cell_type": "code",
   "execution_count": 235,
   "metadata": {},
   "outputs": [
    {
     "data": {
      "text/html": [
       "<ol class=list-inline>\n",
       "\t<li>210</li>\n",
       "\t<li>22</li>\n",
       "</ol>\n"
      ],
      "text/latex": [
       "\\begin{enumerate*}\n",
       "\\item 210\n",
       "\\item 22\n",
       "\\end{enumerate*}\n"
      ],
      "text/markdown": [
       "1. 210\n",
       "2. 22\n",
       "\n",
       "\n"
      ],
      "text/plain": [
       "[1] 210  22"
      ]
     },
     "metadata": {},
     "output_type": "display_data"
    }
   ],
   "source": [
    "dim(df)\n"
   ]
  },
  {
   "cell_type": "code",
   "execution_count": 236,
   "metadata": {},
   "outputs": [
    {
     "data": {
      "text/html": [
       "<dl class=dl-horizontal>\n",
       "\t<dt>id</dt>\n",
       "\t\t<dd>210</dd>\n",
       "\t<dt>age</dt>\n",
       "\t\t<dd>63</dd>\n",
       "\t<dt>bp</dt>\n",
       "\t\t<dd>7</dd>\n",
       "\t<dt>sg</dt>\n",
       "\t\t<dd>5</dd>\n",
       "\t<dt>al</dt>\n",
       "\t\t<dd>5</dd>\n",
       "\t<dt>su</dt>\n",
       "\t\t<dd>6</dd>\n",
       "\t<dt>pc</dt>\n",
       "\t\t<dd>2</dd>\n",
       "\t<dt>pcc</dt>\n",
       "\t\t<dd>2</dd>\n",
       "\t<dt>ba</dt>\n",
       "\t\t<dd>2</dd>\n",
       "\t<dt>bgr</dt>\n",
       "\t\t<dd>103</dd>\n",
       "\t<dt>bu</dt>\n",
       "\t\t<dd>80</dd>\n",
       "\t<dt>sc</dt>\n",
       "\t\t<dd>57</dd>\n",
       "\t<dt>hemo</dt>\n",
       "\t\t<dd>96</dd>\n",
       "\t<dt>pcv</dt>\n",
       "\t\t<dd>37</dd>\n",
       "\t<dt>rc</dt>\n",
       "\t\t<dd>46</dd>\n",
       "\t<dt>htn</dt>\n",
       "\t\t<dd>2</dd>\n",
       "\t<dt>dm</dt>\n",
       "\t\t<dd>2</dd>\n",
       "\t<dt>cad</dt>\n",
       "\t\t<dd>2</dd>\n",
       "\t<dt>appet</dt>\n",
       "\t\t<dd>2</dd>\n",
       "\t<dt>pe</dt>\n",
       "\t\t<dd>2</dd>\n",
       "\t<dt>ane</dt>\n",
       "\t\t<dd>2</dd>\n",
       "\t<dt>classification</dt>\n",
       "\t\t<dd>2</dd>\n",
       "</dl>\n"
      ],
      "text/latex": [
       "\\begin{description*}\n",
       "\\item[id] 210\n",
       "\\item[age] 63\n",
       "\\item[bp] 7\n",
       "\\item[sg] 5\n",
       "\\item[al] 5\n",
       "\\item[su] 6\n",
       "\\item[pc] 2\n",
       "\\item[pcc] 2\n",
       "\\item[ba] 2\n",
       "\\item[bgr] 103\n",
       "\\item[bu] 80\n",
       "\\item[sc] 57\n",
       "\\item[hemo] 96\n",
       "\\item[pcv] 37\n",
       "\\item[rc] 46\n",
       "\\item[htn] 2\n",
       "\\item[dm] 2\n",
       "\\item[cad] 2\n",
       "\\item[appet] 2\n",
       "\\item[pe] 2\n",
       "\\item[ane] 2\n",
       "\\item[classification] 2\n",
       "\\end{description*}\n"
      ],
      "text/markdown": [
       "id\n",
       ":   210age\n",
       ":   63bp\n",
       ":   7sg\n",
       ":   5al\n",
       ":   5su\n",
       ":   6pc\n",
       ":   2pcc\n",
       ":   2ba\n",
       ":   2bgr\n",
       ":   103bu\n",
       ":   80sc\n",
       ":   57hemo\n",
       ":   96pcv\n",
       ":   37rc\n",
       ":   46htn\n",
       ":   2dm\n",
       ":   2cad\n",
       ":   2appet\n",
       ":   2pe\n",
       ":   2ane\n",
       ":   2classification\n",
       ":   2\n",
       "\n"
      ],
      "text/plain": [
       "            id            age             bp             sg             al \n",
       "           210             63              7              5              5 \n",
       "            su             pc            pcc             ba            bgr \n",
       "             6              2              2              2            103 \n",
       "            bu             sc           hemo            pcv             rc \n",
       "            80             57             96             37             46 \n",
       "           htn             dm            cad          appet             pe \n",
       "             2              2              2              2              2 \n",
       "           ane classification \n",
       "             2              2 "
      ]
     },
     "metadata": {},
     "output_type": "display_data"
    }
   ],
   "source": [
    "apply(df,2,function(x) length(unique(x)))"
   ]
  },
  {
   "cell_type": "code",
   "execution_count": 237,
   "metadata": {},
   "outputs": [
    {
     "name": "stdout",
     "output_type": "stream",
     "text": [
      "'data.frame':\t210 obs. of  22 variables:\n",
      " $ id            : int  0 3 4 8 9 11 12 14 15 18 ...\n",
      " $ age           : num  48 48 51 52 53 63 68 68 40 60 ...\n",
      " $ bp            : num  80 70 80 100 90 70 70 80 80 100 ...\n",
      " $ sg            : num  1.02 1 1.01 1.01 1.02 ...\n",
      " $ al            : num  1 4 2 3 2 3 3 3 3 0 ...\n",
      " $ su            : num  0 0 0 0 0 0 1 2 0 3 ...\n",
      " $ pc            : Factor w/ 2 levels \"abnormal\",\"normal\": 2 1 2 1 1 1 2 1 2 2 ...\n",
      " $ pcc           : Factor w/ 2 levels \"notpresent\",\"present\": 1 2 1 2 2 2 2 2 1 1 ...\n",
      " $ ba            : Factor w/ 2 levels \"notpresent\",\"present\": 1 1 1 1 1 1 1 2 1 1 ...\n",
      " $ bgr           : num  121 117 106 138 70 380 208 157 76 263 ...\n",
      " $ bu            : num  36 56 26 60 107 60 72 90 162 27 ...\n",
      " $ sc            : num  1.2 3.8 1.4 1.9 7.2 2.7 2.1 4.1 9.6 1.3 ...\n",
      " $ hemo          : num  15.4 11.2 11.6 10.8 9.5 10.8 9.7 5.6 7.6 12.7 ...\n",
      " $ pcv           : chr  \"44\" \"32\" \"35\" \"33\" ...\n",
      " $ rc            : chr  \"5.2\" \"3.9\" \"4.6\" \"4.0\" ...\n",
      " $ htn           : Factor w/ 2 levels \"no\",\"yes\": 2 2 1 2 2 2 2 2 2 2 ...\n",
      " $ dm            : Factor w/ 2 levels \"no\",\"yes\": 2 1 1 2 2 2 2 2 1 2 ...\n",
      " $ cad           : Factor w/ 2 levels \"no\",\"yes\": 1 1 1 1 1 1 2 2 1 2 ...\n",
      " $ appet         : Factor w/ 2 levels \"good\",\"poor\": 1 2 1 1 2 2 2 2 1 1 ...\n",
      " $ pe            : Factor w/ 2 levels \"no\",\"yes\": 1 2 1 1 1 2 2 2 1 1 ...\n",
      " $ ane           : Factor w/ 2 levels \"no\",\"yes\": 1 2 1 2 2 1 1 1 2 1 ...\n",
      " $ classification: chr  \"ckd\" \"ckd\" \"ckd\" \"ckd\" ...\n"
     ]
    }
   ],
   "source": [
    "cols<-c('pc','pcc','ba','htn','dm','cad','appet','pe','ane')\n",
    "for(i in cols){\n",
    "  df[,i]=as.factor(df[,i])\n",
    "}\n",
    "\n",
    "#### Lets check the data set again\n",
    "str(df)"
   ]
  },
  {
   "cell_type": "code",
   "execution_count": 238,
   "metadata": {},
   "outputs": [],
   "source": [
    "cols2<-c('pcv','rc')\n",
    "for(i in cols2){\n",
    "  df[,i]=as.numeric(df[,i])\n",
    "}\n"
   ]
  },
  {
   "cell_type": "code",
   "execution_count": 239,
   "metadata": {},
   "outputs": [],
   "source": [
    "df=subset(df,select=-c(id))"
   ]
  },
  {
   "cell_type": "code",
   "execution_count": 240,
   "metadata": {},
   "outputs": [],
   "source": [
    "X=subset(df,select=-c(classification))"
   ]
  },
  {
   "cell_type": "code",
   "execution_count": 300,
   "metadata": {},
   "outputs": [
    {
     "data": {
      "text/html": [
       "<table>\n",
       "<thead><tr><th></th><th scope=col>age</th><th scope=col>bp</th><th scope=col>sg</th><th scope=col>al</th><th scope=col>su</th><th scope=col>pc</th><th scope=col>pcc</th><th scope=col>ba</th><th scope=col>bgr</th><th scope=col>bu</th><th scope=col>...</th><th scope=col>hemo</th><th scope=col>pcv</th><th scope=col>rc</th><th scope=col>htn</th><th scope=col>dm</th><th scope=col>cad</th><th scope=col>appet</th><th scope=col>pe</th><th scope=col>ane</th><th scope=col>classification</th></tr></thead>\n",
       "<tbody>\n",
       "\t<tr><th scope=row>389</th><td>51        </td><td>80        </td><td>1.02      </td><td>0         </td><td>0         </td><td>normal    </td><td>notpresent</td><td>notpresent</td><td> 94       </td><td>15        </td><td>...       </td><td>15.5      </td><td>46        </td><td>6.4       </td><td>no        </td><td>no        </td><td>no        </td><td>good      </td><td>no        </td><td>no        </td><td>notckd    </td></tr>\n",
       "\t<tr><th scope=row>385</th><td>57        </td><td>60        </td><td>1.02      </td><td>0         </td><td>0         </td><td>normal    </td><td>notpresent</td><td>notpresent</td><td>132       </td><td>18        </td><td>...       </td><td>15.4      </td><td>42        </td><td>4.5       </td><td>no        </td><td>no        </td><td>no        </td><td>good      </td><td>no        </td><td>no        </td><td>notckd    </td></tr>\n",
       "\t<tr><th scope=row>249</th><td>59        </td><td>70        </td><td>1.01      </td><td>1         </td><td>3         </td><td>abnormal  </td><td>notpresent</td><td>notpresent</td><td>424       </td><td>55        </td><td>...       </td><td>12.6      </td><td>37        </td><td>4.1       </td><td>yes       </td><td>yes       </td><td>yes       </td><td>good      </td><td>no        </td><td>no        </td><td>ckd       </td></tr>\n",
       "\t<tr><th scope=row>208</th><td>50        </td><td>70        </td><td>1.01      </td><td>0         </td><td>0         </td><td>normal    </td><td>notpresent</td><td>notpresent</td><td>230       </td><td>50        </td><td>...       </td><td>12.0      </td><td>41        </td><td>4.6       </td><td>yes       </td><td>yes       </td><td>no        </td><td>good      </td><td>no        </td><td>no        </td><td>ckd       </td></tr>\n",
       "\t<tr><th scope=row>265</th><td>42        </td><td>80        </td><td>1.02      </td><td>0         </td><td>0         </td><td>normal    </td><td>notpresent</td><td>notpresent</td><td>132       </td><td>24        </td><td>...       </td><td>14.4      </td><td>50        </td><td>4.5       </td><td>no        </td><td>no        </td><td>no        </td><td>good      </td><td>no        </td><td>no        </td><td>notckd    </td></tr>\n",
       "\t<tr><th scope=row>243</th><td>69        </td><td>70        </td><td>1.01      </td><td>4         </td><td>3         </td><td>abnormal  </td><td>present   </td><td>present   </td><td>214       </td><td>96        </td><td>...       </td><td> 9.4      </td><td>28        </td><td>3.3       </td><td>yes       </td><td>yes       </td><td>yes       </td><td>good      </td><td>yes       </td><td>yes       </td><td>ckd       </td></tr>\n",
       "</tbody>\n",
       "</table>\n"
      ],
      "text/latex": [
       "\\begin{tabular}{r|lllllllllllllllllllll}\n",
       "  & age & bp & sg & al & su & pc & pcc & ba & bgr & bu & ... & hemo & pcv & rc & htn & dm & cad & appet & pe & ane & classification\\\\\n",
       "\\hline\n",
       "\t389 & 51         & 80         & 1.02       & 0          & 0          & normal     & notpresent & notpresent &  94        & 15         & ...        & 15.5       & 46         & 6.4        & no         & no         & no         & good       & no         & no         & notckd    \\\\\n",
       "\t385 & 57         & 60         & 1.02       & 0          & 0          & normal     & notpresent & notpresent & 132        & 18         & ...        & 15.4       & 42         & 4.5        & no         & no         & no         & good       & no         & no         & notckd    \\\\\n",
       "\t249 & 59         & 70         & 1.01       & 1          & 3          & abnormal   & notpresent & notpresent & 424        & 55         & ...        & 12.6       & 37         & 4.1        & yes        & yes        & yes        & good       & no         & no         & ckd       \\\\\n",
       "\t208 & 50         & 70         & 1.01       & 0          & 0          & normal     & notpresent & notpresent & 230        & 50         & ...        & 12.0       & 41         & 4.6        & yes        & yes        & no         & good       & no         & no         & ckd       \\\\\n",
       "\t265 & 42         & 80         & 1.02       & 0          & 0          & normal     & notpresent & notpresent & 132        & 24         & ...        & 14.4       & 50         & 4.5        & no         & no         & no         & good       & no         & no         & notckd    \\\\\n",
       "\t243 & 69         & 70         & 1.01       & 4          & 3          & abnormal   & present    & present    & 214        & 96         & ...        &  9.4       & 28         & 3.3        & yes        & yes        & yes        & good       & yes        & yes        & ckd       \\\\\n",
       "\\end{tabular}\n"
      ],
      "text/markdown": [
       "\n",
       "| <!--/--> | age | bp | sg | al | su | pc | pcc | ba | bgr | bu | ... | hemo | pcv | rc | htn | dm | cad | appet | pe | ane | classification |\n",
       "|---|---|---|---|---|---|---|---|---|---|---|---|---|---|---|---|---|---|---|---|---|---|\n",
       "| 389 | 51         | 80         | 1.02       | 0          | 0          | normal     | notpresent | notpresent |  94        | 15         | ...        | 15.5       | 46         | 6.4        | no         | no         | no         | good       | no         | no         | notckd     |\n",
       "| 385 | 57         | 60         | 1.02       | 0          | 0          | normal     | notpresent | notpresent | 132        | 18         | ...        | 15.4       | 42         | 4.5        | no         | no         | no         | good       | no         | no         | notckd     |\n",
       "| 249 | 59         | 70         | 1.01       | 1          | 3          | abnormal   | notpresent | notpresent | 424        | 55         | ...        | 12.6       | 37         | 4.1        | yes        | yes        | yes        | good       | no         | no         | ckd        |\n",
       "| 208 | 50         | 70         | 1.01       | 0          | 0          | normal     | notpresent | notpresent | 230        | 50         | ...        | 12.0       | 41         | 4.6        | yes        | yes        | no         | good       | no         | no         | ckd        |\n",
       "| 265 | 42         | 80         | 1.02       | 0          | 0          | normal     | notpresent | notpresent | 132        | 24         | ...        | 14.4       | 50         | 4.5        | no         | no         | no         | good       | no         | no         | notckd     |\n",
       "| 243 | 69         | 70         | 1.01       | 4          | 3          | abnormal   | present    | present    | 214        | 96         | ...        |  9.4       | 28         | 3.3        | yes        | yes        | yes        | good       | yes        | yes        | ckd        |\n",
       "\n"
      ],
      "text/plain": [
       "    age bp sg   al su pc       pcc        ba         bgr bu ... hemo pcv rc \n",
       "389 51  80 1.02 0  0  normal   notpresent notpresent  94 15 ... 15.5 46  6.4\n",
       "385 57  60 1.02 0  0  normal   notpresent notpresent 132 18 ... 15.4 42  4.5\n",
       "249 59  70 1.01 1  3  abnormal notpresent notpresent 424 55 ... 12.6 37  4.1\n",
       "208 50  70 1.01 0  0  normal   notpresent notpresent 230 50 ... 12.0 41  4.6\n",
       "265 42  80 1.02 0  0  normal   notpresent notpresent 132 24 ... 14.4 50  4.5\n",
       "243 69  70 1.01 4  3  abnormal present    present    214 96 ...  9.4 28  3.3\n",
       "    htn dm  cad appet pe  ane classification\n",
       "389 no  no  no  good  no  no  notckd        \n",
       "385 no  no  no  good  no  no  notckd        \n",
       "249 yes yes yes good  no  no  ckd           \n",
       "208 yes yes no  good  no  no  ckd           \n",
       "265 no  no  no  good  no  no  notckd        \n",
       "243 yes yes yes good  yes yes ckd           "
      ]
     },
     "metadata": {},
     "output_type": "display_data"
    }
   ],
   "source": [
    "# df$classification[df$classification=='ckd']<-0\n",
    "# df$classification[df$classification=='notckd']<-1\n",
    "\n",
    "# shuffle the dataset\n",
    "df <- df[sample(nrow(df)),]\n",
    "head(df)"
   ]
  },
  {
   "cell_type": "code",
   "execution_count": 72,
   "metadata": {},
   "outputs": [],
   "source": [
    "#df['classification']=as.numeric(unlist(df['classification']))"
   ]
  },
  {
   "cell_type": "code",
   "execution_count": 294,
   "metadata": {},
   "outputs": [],
   "source": [
    "# make the response column a factor\n",
    "df$classification=as.factor(as.character(df$classification))"
   ]
  },
  {
   "cell_type": "markdown",
   "metadata": {},
   "source": [
    "## Fit a random forest model\n",
    "### Train a random forest classification model to predict kidney disease."
   ]
  },
  {
   "cell_type": "code",
   "execution_count": 307,
   "metadata": {},
   "outputs": [],
   "source": [
    "rf = randomForest(classification ~ ., data= df, ntree=70)\n",
    "X = df[-which(names(df) == 'classification')]\n",
    "y=df$classification\n",
    "mod = Predictor$new(rf, data = X, y = y=='ckd',type='prob', class='ckd')"
   ]
  },
  {
   "cell_type": "markdown",
   "metadata": {},
   "source": [
    "## Compute feature importances"
   ]
  },
  {
   "cell_type": "markdown",
   "metadata": {},
   "source": [
    "Useful to note what features are relevant when it comes to the prediction values. Shuffle each feature and observe the change in predicted outputs. Use 'ce' for classification. From Metrics package : \" ce is defined as the proportion of elements in actual that are not equal to the corresponding element in predicted. \""
   ]
  },
  {
   "cell_type": "code",
   "execution_count": 319,
   "metadata": {},
   "outputs": [
    {
     "data": {
      "text/html": [
       "<table>\n",
       "<thead><tr><th scope=col>feature</th><th scope=col>importance.05</th><th scope=col>importance</th><th scope=col>importance.95</th><th scope=col>permutation.error</th></tr></thead>\n",
       "<tbody>\n",
       "\t<tr><td>hemo     </td><td>2.947368 </td><td>3.210526 </td><td>3.557895 </td><td>0.5809524</td></tr>\n",
       "\t<tr><td>pcv      </td><td>2.678947 </td><td>2.894737 </td><td>2.989474 </td><td>0.5238095</td></tr>\n",
       "\t<tr><td>sc       </td><td>2.642105 </td><td>2.868421 </td><td>3.221053 </td><td>0.5190476</td></tr>\n",
       "\t<tr><td>rc       </td><td>2.605263 </td><td>2.763158 </td><td>3.131579 </td><td>0.5000000</td></tr>\n",
       "\t<tr><td>sg       </td><td>2.047368 </td><td>2.342105 </td><td>2.694737 </td><td>0.4238095</td></tr>\n",
       "</tbody>\n",
       "</table>\n"
      ],
      "text/latex": [
       "\\begin{tabular}{r|lllll}\n",
       " feature & importance.05 & importance & importance.95 & permutation.error\\\\\n",
       "\\hline\n",
       "\t hemo      & 2.947368  & 3.210526  & 3.557895  & 0.5809524\\\\\n",
       "\t pcv       & 2.678947  & 2.894737  & 2.989474  & 0.5238095\\\\\n",
       "\t sc        & 2.642105  & 2.868421  & 3.221053  & 0.5190476\\\\\n",
       "\t rc        & 2.605263  & 2.763158  & 3.131579  & 0.5000000\\\\\n",
       "\t sg        & 2.047368  & 2.342105  & 2.694737  & 0.4238095\\\\\n",
       "\\end{tabular}\n"
      ],
      "text/markdown": [
       "\n",
       "| feature | importance.05 | importance | importance.95 | permutation.error |\n",
       "|---|---|---|---|---|\n",
       "| hemo      | 2.947368  | 3.210526  | 3.557895  | 0.5809524 |\n",
       "| pcv       | 2.678947  | 2.894737  | 2.989474  | 0.5238095 |\n",
       "| sc        | 2.642105  | 2.868421  | 3.221053  | 0.5190476 |\n",
       "| rc        | 2.605263  | 2.763158  | 3.131579  | 0.5000000 |\n",
       "| sg        | 2.047368  | 2.342105  | 2.694737  | 0.4238095 |\n",
       "\n"
      ],
      "text/plain": [
       "  feature importance.05 importance importance.95 permutation.error\n",
       "1 hemo    2.947368      3.210526   3.557895      0.5809524        \n",
       "2 pcv     2.678947      2.894737   2.989474      0.5238095        \n",
       "3 sc      2.642105      2.868421   3.221053      0.5190476        \n",
       "4 rc      2.605263      2.763158   3.131579      0.5000000        \n",
       "5 sg      2.047368      2.342105   2.694737      0.4238095        "
      ]
     },
     "metadata": {},
     "output_type": "display_data"
    },
    {
     "data": {
      "image/png": "[encoded data removed]",
      "text/plain": [
       "plot without title"
      ]
     },
     "metadata": {},
     "output_type": "display_data"
    }
   ],
   "source": [
    "imp = FeatureImp$new(mod, loss = \"ce\")\n",
    "imp$results[1:5,]\n",
    "plot(imp)"
   ]
  },
  {
   "cell_type": "markdown",
   "metadata": {},
   "source": [
    "The most important feature for predicting chronic kidney disease is the hemoglobin, with an error of 0.58 after permuting. Following closely are the features packed cell volume and serum creatinine."
   ]
  },
  {
   "cell_type": "markdown",
   "metadata": {},
   "source": [
    "## Partial Dependence Plot"
   ]
  },
  {
   "cell_type": "markdown",
   "metadata": {},
   "source": [
    "A partial dependence plot shows how changing the values of a specific feature impacts the predicted outcome.\n",
    "Each line represents the predictions for an individual of the dataset, for unique values of the hemoglobin feature. The PD plot is represented by the yellow line, that is the average of all individual prediction lines."
   ]
  },
  {
   "cell_type": "code",
   "execution_count": 325,
   "metadata": {},
   "outputs": [
    {
     "data": {
      "image/png": "[encoded data removed]",
      "text/plain": [
       "plot without title"
      ]
     },
     "metadata": {},
     "output_type": "display_data"
    }
   ],
   "source": [
    "pdp.obj$set.feature(\"hemo\")\n",
    "pdp.obj$center(min(df$hemo))\n",
    "plot(pdp.obj)"
   ]
  },
  {
   "cell_type": "markdown",
   "metadata": {},
   "source": [
    "The plot above is a Centered ICE plot of kidney disease probability by hemoglobin. It centers all prediction lines to the minimum value of the feature, for an easier interpretation.\n",
    "The y-axis shows the survival probability difference to hemo = 3.1. \n",
    "Compared to hemo = 3.1, the predictions for most individuals decrease as values of hemo increase. There is a sharp drop around hemo = 12.5."
   ]
  },
  {
   "cell_type": "markdown",
   "metadata": {},
   "source": [
    "## Explaining predictions with Shapely values"
   ]
  },
  {
   "cell_type": "code",
   "execution_count": 342,
   "metadata": {},
   "outputs": [
    {
     "data": {
      "text/html": [
       "<table>\n",
       "<thead><tr><th></th><th scope=col>age</th><th scope=col>bp</th><th scope=col>sg</th><th scope=col>al</th><th scope=col>su</th><th scope=col>pc</th><th scope=col>pcc</th><th scope=col>ba</th><th scope=col>bgr</th><th scope=col>bu</th><th scope=col>...</th><th scope=col>hemo</th><th scope=col>pcv</th><th scope=col>rc</th><th scope=col>htn</th><th scope=col>dm</th><th scope=col>cad</th><th scope=col>appet</th><th scope=col>pe</th><th scope=col>ane</th><th scope=col>classification</th></tr></thead>\n",
       "<tbody>\n",
       "\t<tr><th scope=row>49</th><td>73        </td><td>70        </td><td>1.005     </td><td>0         </td><td>0         </td><td>normal    </td><td>notpresent</td><td>notpresent</td><td>70        </td><td>32        </td><td>...       </td><td>10        </td><td>29        </td><td>3.5       </td><td>yes       </td><td>yes       </td><td>no        </td><td>good      </td><td>yes       </td><td>no        </td><td>ckd       </td></tr>\n",
       "</tbody>\n",
       "</table>\n"
      ],
      "text/latex": [
       "\\begin{tabular}{r|lllllllllllllllllllll}\n",
       "  & age & bp & sg & al & su & pc & pcc & ba & bgr & bu & ... & hemo & pcv & rc & htn & dm & cad & appet & pe & ane & classification\\\\\n",
       "\\hline\n",
       "\t49 & 73         & 70         & 1.005      & 0          & 0          & normal     & notpresent & notpresent & 70         & 32         & ...        & 10         & 29         & 3.5        & yes        & yes        & no         & good       & yes        & no         & ckd       \\\\\n",
       "\\end{tabular}\n"
      ],
      "text/markdown": [
       "\n",
       "| <!--/--> | age | bp | sg | al | su | pc | pcc | ba | bgr | bu | ... | hemo | pcv | rc | htn | dm | cad | appet | pe | ane | classification |\n",
       "|---|---|---|---|---|---|---|---|---|---|---|---|---|---|---|---|---|---|---|---|---|---|\n",
       "| 49 | 73         | 70         | 1.005      | 0          | 0          | normal     | notpresent | notpresent | 70         | 32         | ...        | 10         | 29         | 3.5        | yes        | yes        | no         | good       | yes        | no         | ckd        |\n",
       "\n"
      ],
      "text/plain": [
       "   age bp sg    al su pc     pcc        ba         bgr bu ... hemo pcv rc  htn\n",
       "49 73  70 1.005 0  0  normal notpresent notpresent 70  32 ... 10   29  3.5 yes\n",
       "   dm  cad appet pe  ane classification\n",
       "49 yes no  good  yes no  ckd           "
      ]
     },
     "metadata": {},
     "output_type": "display_data"
    },
    {
     "data": {
      "image/png": "[encoded data removed]",
      "text/plain": [
       "plot without title"
      ]
     },
     "metadata": {},
     "output_type": "display_data"
    }
   ],
   "source": [
    "df[29,]\n",
    "shapley = Shapley$new(mod, x.interest = X[29,])\n",
    "plot(shapley)"
   ]
  },
  {
   "cell_type": "markdown",
   "metadata": {},
   "source": [
    "Shapley values for an individual: With a predicted output of 0.97, this individual's probability of having chronic kidney disease is 0.54 above the average prediction of 0.43. The sg (specific gravity) of 1.005 increased the probability the most. The sum of contributions yields the difference between actual and average prediction (0.54)."
   ]
  },
  {
   "cell_type": "code",
   "execution_count": 343,
   "metadata": {},
   "outputs": [
    {
     "data": {
      "text/html": [
       "<table>\n",
       "<thead><tr><th></th><th scope=col>age</th><th scope=col>bp</th><th scope=col>sg</th><th scope=col>al</th><th scope=col>su</th><th scope=col>pc</th><th scope=col>pcc</th><th scope=col>ba</th><th scope=col>bgr</th><th scope=col>bu</th><th scope=col>...</th><th scope=col>hemo</th><th scope=col>pcv</th><th scope=col>rc</th><th scope=col>htn</th><th scope=col>dm</th><th scope=col>cad</th><th scope=col>appet</th><th scope=col>pe</th><th scope=col>ane</th><th scope=col>classification</th></tr></thead>\n",
       "<tbody>\n",
       "\t<tr><th scope=row>321</th><td>57        </td><td>60        </td><td>1.02      </td><td>0         </td><td>0         </td><td>normal    </td><td>notpresent</td><td>notpresent</td><td>105       </td><td>49        </td><td>...       </td><td>15.7      </td><td>44        </td><td>6.2       </td><td>no        </td><td>no        </td><td>no        </td><td>good      </td><td>no        </td><td>no        </td><td>notckd    </td></tr>\n",
       "</tbody>\n",
       "</table>\n"
      ],
      "text/latex": [
       "\\begin{tabular}{r|lllllllllllllllllllll}\n",
       "  & age & bp & sg & al & su & pc & pcc & ba & bgr & bu & ... & hemo & pcv & rc & htn & dm & cad & appet & pe & ane & classification\\\\\n",
       "\\hline\n",
       "\t321 & 57         & 60         & 1.02       & 0          & 0          & normal     & notpresent & notpresent & 105        & 49         & ...        & 15.7       & 44         & 6.2        & no         & no         & no         & good       & no         & no         & notckd    \\\\\n",
       "\\end{tabular}\n"
      ],
      "text/markdown": [
       "\n",
       "| <!--/--> | age | bp | sg | al | su | pc | pcc | ba | bgr | bu | ... | hemo | pcv | rc | htn | dm | cad | appet | pe | ane | classification |\n",
       "|---|---|---|---|---|---|---|---|---|---|---|---|---|---|---|---|---|---|---|---|---|---|\n",
       "| 321 | 57         | 60         | 1.02       | 0          | 0          | normal     | notpresent | notpresent | 105        | 49         | ...        | 15.7       | 44         | 6.2        | no         | no         | no         | good       | no         | no         | notckd     |\n",
       "\n"
      ],
      "text/plain": [
       "    age bp sg   al su pc     pcc        ba         bgr bu ... hemo pcv rc  htn\n",
       "321 57  60 1.02 0  0  normal notpresent notpresent 105 49 ... 15.7 44  6.2 no \n",
       "    dm cad appet pe ane classification\n",
       "321 no no  good  no no  notckd        "
      ]
     },
     "metadata": {},
     "output_type": "display_data"
    },
    {
     "data": {
      "image/png": "[encoded data removed]",
      "text/plain": [
       "plot without title"
      ]
     },
     "metadata": {},
     "output_type": "display_data"
    }
   ],
   "source": [
    "df[98,]\n",
    "shapley = Shapley$new(mod, x.interest = X[98,])\n",
    "plot(shapley)"
   ]
  },
  {
   "cell_type": "markdown",
   "metadata": {},
   "source": [
    "This individual's probability of having kidney disease is 0, below the average of 0.43. The sg of 1.02 and hemoglobin of 15.7 had the largest negative contributions to the predicted outcome. "
   ]
  },
  {
   "cell_type": "markdown",
   "metadata": {},
   "source": [
    "## Explaining predictions with LIME "
   ]
  },
  {
   "cell_type": "markdown",
   "metadata": {},
   "source": [
    "In order to explain an individual prediction using LIME (Local interpretable model-agnostic explanations), we fit a simpler model, giving higher weights to data points closer to the subject of interest.\n",
    "\n",
    "In the next examples, 5 features are used to build the explanations.\n",
    "The two individuals chosen have different predicted classes."
   ]
  },
  {
   "cell_type": "code",
   "execution_count": 310,
   "metadata": {},
   "outputs": [
    {
     "data": {
      "text/html": [
       "<table>\n",
       "<thead><tr><th></th><th scope=col>beta</th><th scope=col>x.recoded</th><th scope=col>effect</th><th scope=col>x.original</th><th scope=col>feature</th><th scope=col>feature.value</th></tr></thead>\n",
       "<tbody>\n",
       "\t<tr><th scope=row>sg</th><td>-13.18885987</td><td> 1.005      </td><td>-13.25480417</td><td>1.005       </td><td>sg          </td><td>sg=1.005    </td></tr>\n",
       "\t<tr><th scope=row>hemo</th><td> -0.02499673</td><td>10.000      </td><td> -0.24996726</td><td>10          </td><td>hemo        </td><td>hemo=10     </td></tr>\n",
       "\t<tr><th scope=row>pcv</th><td> -0.00419018</td><td>29.000      </td><td> -0.12151523</td><td>29          </td><td>pcv         </td><td>pcv=29      </td></tr>\n",
       "\t<tr><th scope=row>htn=yes</th><td>  0.23382759</td><td> 1.000      </td><td>  0.23382759</td><td>yes         </td><td>htn=yes     </td><td>htn=yes     </td></tr>\n",
       "\t<tr><th scope=row>dm=yes</th><td>  0.07720458</td><td> 1.000      </td><td>  0.07720458</td><td>yes         </td><td>dm=yes      </td><td>dm=yes      </td></tr>\n",
       "</tbody>\n",
       "</table>\n"
      ],
      "text/latex": [
       "\\begin{tabular}{r|llllll}\n",
       "  & beta & x.recoded & effect & x.original & feature & feature.value\\\\\n",
       "\\hline\n",
       "\tsg & -13.18885987 &  1.005       & -13.25480417 & 1.005        & sg           & sg=1.005    \\\\\n",
       "\themo &  -0.02499673 & 10.000       &  -0.24996726 & 10           & hemo         & hemo=10     \\\\\n",
       "\tpcv &  -0.00419018 & 29.000       &  -0.12151523 & 29           & pcv          & pcv=29      \\\\\n",
       "\thtn=yes &   0.23382759 &  1.000       &   0.23382759 & yes          & htn=yes      & htn=yes     \\\\\n",
       "\tdm=yes &   0.07720458 &  1.000       &   0.07720458 & yes          & dm=yes       & dm=yes      \\\\\n",
       "\\end{tabular}\n"
      ],
      "text/markdown": [
       "\n",
       "| <!--/--> | beta | x.recoded | effect | x.original | feature | feature.value |\n",
       "|---|---|---|---|---|---|---|\n",
       "| sg | -13.18885987 |  1.005       | -13.25480417 | 1.005        | sg           | sg=1.005     |\n",
       "| hemo |  -0.02499673 | 10.000       |  -0.24996726 | 10           | hemo         | hemo=10      |\n",
       "| pcv |  -0.00419018 | 29.000       |  -0.12151523 | 29           | pcv          | pcv=29       |\n",
       "| htn=yes |   0.23382759 |  1.000       |   0.23382759 | yes          | htn=yes      | htn=yes      |\n",
       "| dm=yes |   0.07720458 |  1.000       |   0.07720458 | yes          | dm=yes       | dm=yes       |\n",
       "\n"
      ],
      "text/plain": [
       "        beta         x.recoded effect       x.original feature feature.value\n",
       "sg      -13.18885987  1.005    -13.25480417 1.005      sg      sg=1.005     \n",
       "hemo     -0.02499673 10.000     -0.24996726 10         hemo    hemo=10      \n",
       "pcv      -0.00419018 29.000     -0.12151523 29         pcv     pcv=29       \n",
       "htn=yes   0.23382759  1.000      0.23382759 yes        htn=yes htn=yes      \n",
       "dm=yes    0.07720458  1.000      0.07720458 yes        dm=yes  dm=yes       "
      ]
     },
     "metadata": {},
     "output_type": "display_data"
    },
    {
     "data": {
      "image/png": "[encoded data removed]",
      "text/plain": [
       "plot without title"
      ]
     },
     "metadata": {},
     "output_type": "display_data"
    }
   ],
   "source": [
    "lime.explain = LocalModel$new(mod, x.interest = X[29,],k=5)\n",
    "lime.explain$results\n",
    "plot(lime.explain)"
   ]
  },
  {
   "cell_type": "markdown",
   "metadata": {},
   "source": [
    "The value of 1.005 of the sg(specific gravity) feature has the highest negative effect on the output. The other features have almost insignificant effects in comparison. The feature effect is computed as the weight x the observed feature value."
   ]
  },
  {
   "cell_type": "code",
   "execution_count": 336,
   "metadata": {},
   "outputs": [
    {
     "data": {
      "text/html": [
       "<table>\n",
       "<thead><tr><th></th><th scope=col>beta</th><th scope=col>x.recoded</th><th scope=col>effect</th><th scope=col>x.original</th><th scope=col>feature</th><th scope=col>feature.value</th></tr></thead>\n",
       "<tbody>\n",
       "\t<tr><th scope=row>sg</th><td>-11.549475119</td><td> 1.025       </td><td>-11.83821200 </td><td>1.025        </td><td>sg           </td><td>sg=1.025     </td></tr>\n",
       "\t<tr><th scope=row>hemo</th><td> -0.022493303</td><td>14.900       </td><td> -0.33515022 </td><td>14.9         </td><td>hemo         </td><td>hemo=14.9    </td></tr>\n",
       "\t<tr><th scope=row>pcv</th><td> -0.003540765</td><td>41.000       </td><td> -0.14517135 </td><td>41           </td><td>pcv          </td><td>pcv=41       </td></tr>\n",
       "\t<tr><th scope=row>htn=no</th><td> -0.208461676</td><td> 1.000       </td><td> -0.20846168 </td><td>no           </td><td>htn=no       </td><td>htn=no       </td></tr>\n",
       "\t<tr><th scope=row>dm=no</th><td> -0.034911764</td><td> 1.000       </td><td> -0.03491176 </td><td>no           </td><td>dm=no        </td><td>dm=no        </td></tr>\n",
       "</tbody>\n",
       "</table>\n"
      ],
      "text/latex": [
       "\\begin{tabular}{r|llllll}\n",
       "  & beta & x.recoded & effect & x.original & feature & feature.value\\\\\n",
       "\\hline\n",
       "\tsg & -11.549475119 &  1.025        & -11.83821200  & 1.025         & sg            & sg=1.025     \\\\\n",
       "\themo &  -0.022493303 & 14.900        &  -0.33515022  & 14.9          & hemo          & hemo=14.9    \\\\\n",
       "\tpcv &  -0.003540765 & 41.000        &  -0.14517135  & 41            & pcv           & pcv=41       \\\\\n",
       "\thtn=no &  -0.208461676 &  1.000        &  -0.20846168  & no            & htn=no        & htn=no       \\\\\n",
       "\tdm=no &  -0.034911764 &  1.000        &  -0.03491176  & no            & dm=no         & dm=no        \\\\\n",
       "\\end{tabular}\n"
      ],
      "text/markdown": [
       "\n",
       "| <!--/--> | beta | x.recoded | effect | x.original | feature | feature.value |\n",
       "|---|---|---|---|---|---|---|\n",
       "| sg | -11.549475119 |  1.025        | -11.83821200  | 1.025         | sg            | sg=1.025      |\n",
       "| hemo |  -0.022493303 | 14.900        |  -0.33515022  | 14.9          | hemo          | hemo=14.9     |\n",
       "| pcv |  -0.003540765 | 41.000        |  -0.14517135  | 41            | pcv           | pcv=41        |\n",
       "| htn=no |  -0.208461676 |  1.000        |  -0.20846168  | no            | htn=no        | htn=no        |\n",
       "| dm=no |  -0.034911764 |  1.000        |  -0.03491176  | no            | dm=no         | dm=no         |\n",
       "\n"
      ],
      "text/plain": [
       "       beta          x.recoded effect       x.original feature feature.value\n",
       "sg     -11.549475119  1.025    -11.83821200 1.025      sg      sg=1.025     \n",
       "hemo    -0.022493303 14.900     -0.33515022 14.9       hemo    hemo=14.9    \n",
       "pcv     -0.003540765 41.000     -0.14517135 41         pcv     pcv=41       \n",
       "htn=no  -0.208461676  1.000     -0.20846168 no         htn=no  htn=no       \n",
       "dm=no   -0.034911764  1.000     -0.03491176 no         dm=no   dm=no        "
      ]
     },
     "metadata": {},
     "output_type": "display_data"
    },
    {
     "data": {
      "image/png": "[encoded data removed]",
      "text/plain": [
       "plot without title"
      ]
     },
     "metadata": {},
     "output_type": "display_data"
    }
   ],
   "source": [
    "lime.explain$explain(X[89,])\n",
    "lime.explain$results\n",
    "plot(lime.explain)"
   ]
  }
 ],
 "metadata": {
  "kernelspec": {
   "display_name": "R",
   "language": "R",
   "name": "ir"
  },
  "language_info": {
   "codemirror_mode": "r",
   "file_extension": ".r",
   "mimetype": "text/x-r-source",
   "name": "R",
   "pygments_lexer": "r",
   "version": "3.6.1"
  }
 },
 "nbformat": 4,
 "nbformat_minor": 2
}
